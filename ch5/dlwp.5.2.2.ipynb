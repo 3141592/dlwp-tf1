{
 "cells": [
  {
   "cell_type": "code",
   "execution_count": 4,
   "id": "6f056cef",
   "metadata": {},
   "outputs": [
    {
     "name": "stdout",
     "output_type": "stream",
     "text": [
      "Total training cat images:  1000\n"
     ]
    }
   ],
   "source": [
    "# Listing 5.4\n",
    "import os, shutil\n",
    "\n",
    "original_dataset_dir = '/Users/roy/Downloads/kaggle_original_data/PetImages'\n",
    "base_dir = '/Users/roy/Downloads/cats_and_dogs_small'\n",
    "os.mkdir(base_dir)\n",
    "\n",
    "#Create directories\n",
    "train_dir = os.path.join(base_dir, 'train')\n",
    "os.mkdir(train_dir)\n",
    "validation_dir = os.path.join(base_dir, 'validation')\n",
    "os.mkdir(validation_dir)\n",
    "test_dir = os.path.join(base_dir, 'test')\n",
    "os.mkdir(test_dir)\n",
    "\n",
    "train_cats_dir = os.path.join(train_dir, 'cats')\n",
    "os.mkdir(train_cats_dir)\n",
    "validation_cats_dir = os.path.join(validation_dir, 'cats')\n",
    "os.mkdir(validation_cats_dir)\n",
    "test_cats_dir = os.path.join(test_dir, 'cats')\n",
    "os.mkdir(test_cats_dir)\n",
    "\n",
    "train_dogs_dir = os.path.join(train_dir, 'dogs')\n",
    "os.mkdir(train_dogs_dir)\n",
    "validation_dogs_dir = os.path.join(validation_dir, 'dogs')\n",
    "os.mkdir(validation_dogs_dir)\n",
    "test_dogs_dir = os.path.join(test_dir, 'dogs')\n",
    "os.mkdir(test_dogs_dir)\n",
    "\n",
    "#Copy images\n",
    "fnames = ['{}.jpg'.format(i) for i in range(1000)]\n",
    "for fname in fnames:\n",
    "    src = os.path.join(os.path.join(original_dataset_dir, 'Cat'), fname)\n",
    "    dat = os.path.join(train_cats_dir, fname)\n",
    "    shutil.copyfile(src, dat)\n",
    "    \n",
    "fnames = ['{}.jpg'.format(i) for i in range(1000, 1500)]\n",
    "for fname in fnames:\n",
    "    src = os.path.join(os.path.join(original_dataset_dir, 'Cat'), fname)\n",
    "    dat = os.path.join(validation_cats_dir, fname)\n",
    "    shutil.copyfile(src, dat)\n",
    "\n",
    "fnames = ['{}.jpg'.format(i) for i in range(1500, 2000)]\n",
    "for fname in fnames:\n",
    "    src = os.path.join(os.path.join(original_dataset_dir, 'Cat'), fname)\n",
    "    dat = os.path.join(test_cats_dir, fname)\n",
    "    shutil.copyfile(src, dat)\n",
    "\n",
    "fnames = ['{}.jpg'.format(i) for i in range(1000)]\n",
    "for fname in fnames:\n",
    "    src = os.path.join(os.path.join(original_dataset_dir, 'Dog'), fname)\n",
    "    dat = os.path.join(train_dogs_dir, fname)\n",
    "    shutil.copyfile(src, dat)\n",
    "    \n",
    "fnames = ['{}.jpg'.format(i) for i in range(1000, 1500)]\n",
    "for fname in fnames:\n",
    "    src = os.path.join(os.path.join(original_dataset_dir, 'Dog'), fname)\n",
    "    dat = os.path.join(validation_dogs_dir, fname)\n",
    "    shutil.copyfile(src, dat)\n",
    "\n",
    "fnames = ['{}.jpg'.format(i) for i in range(1500, 2000)]\n",
    "for fname in fnames:\n",
    "    src = os.path.join(os.path.join(original_dataset_dir, 'Dog'), fname)\n",
    "    dat = os.path.join(test_dogs_dir, fname)\n",
    "    shutil.copyfile(src, dat)\n",
    "    \n"
   ]
  },
  {
   "cell_type": "code",
   "execution_count": 5,
   "id": "1ff08180",
   "metadata": {},
   "outputs": [
    {
     "name": "stdout",
     "output_type": "stream",
     "text": [
      "Total training cat images:  1000\n",
      "Total validation cat images:  500\n",
      "Total testing cat images:  500\n",
      "Total training dog images:  1000\n",
      "Total validation dog images:  500\n",
      "Total testing dog images:  500\n"
     ]
    }
   ],
   "source": [
    "# Verify counts\n",
    "print('Total training cat images: ', len(os.listdir(train_cats_dir)))\n",
    "print('Total validation cat images: ', len(os.listdir(validation_cats_dir)))\n",
    "print('Total testing cat images: ', len(os.listdir(test_cats_dir)))\n",
    "\n",
    "print('Total training dog images: ', len(os.listdir(train_dogs_dir)))\n",
    "print('Total validation dog images: ', len(os.listdir(validation_dogs_dir)))\n",
    "print('Total testing dog images: ', len(os.listdir(test_dogs_dir)))"
   ]
  },
  {
   "cell_type": "code",
   "execution_count": null,
   "id": "bc4c46c4",
   "metadata": {},
   "outputs": [],
   "source": []
  }
 ],
 "metadata": {
  "kernelspec": {
   "display_name": "Python 3 (ipykernel)",
   "language": "python",
   "name": "python3"
  },
  "language_info": {
   "codemirror_mode": {
    "name": "ipython",
    "version": 3
   },
   "file_extension": ".py",
   "mimetype": "text/x-python",
   "name": "python",
   "nbconvert_exporter": "python",
   "pygments_lexer": "ipython3",
   "version": "3.9.7"
  }
 },
 "nbformat": 4,
 "nbformat_minor": 5
}
