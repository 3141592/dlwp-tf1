{
 "cells": [
  {
   "cell_type": "code",
   "execution_count": 21,
   "id": "33d017aa",
   "metadata": {},
   "outputs": [
    {
     "name": "stdout",
     "output_type": "stream",
     "text": [
      "8982\n",
      "2246\n",
      "Epoch 1/9\n",
      "16/16 [==============================] - 1s 25ms/step - loss: 2.6448 - accuracy: 0.5430 - val_loss: 1.7359 - val_accuracy: 0.6600\n",
      "Epoch 2/9\n",
      "16/16 [==============================] - 0s 19ms/step - loss: 1.4088 - accuracy: 0.7114 - val_loss: 1.2972 - val_accuracy: 0.7190\n",
      "Epoch 3/9\n",
      "16/16 [==============================] - 0s 15ms/step - loss: 1.0414 - accuracy: 0.7742 - val_loss: 1.1349 - val_accuracy: 0.7520\n",
      "Epoch 4/9\n",
      "16/16 [==============================] - 0s 16ms/step - loss: 0.8199 - accuracy: 0.8240 - val_loss: 1.0366 - val_accuracy: 0.7790\n",
      "Epoch 5/9\n",
      "16/16 [==============================] - 0s 18ms/step - loss: 0.6499 - accuracy: 0.8617 - val_loss: 0.9758 - val_accuracy: 0.8040\n",
      "Epoch 6/9\n",
      "16/16 [==============================] - 0s 16ms/step - loss: 0.5185 - accuracy: 0.8919 - val_loss: 0.9231 - val_accuracy: 0.8030\n",
      "Epoch 7/9\n",
      "16/16 [==============================] - 0s 19ms/step - loss: 0.4136 - accuracy: 0.9131 - val_loss: 0.8934 - val_accuracy: 0.8160\n",
      "Epoch 8/9\n",
      "16/16 [==============================] - 0s 16ms/step - loss: 0.3422 - accuracy: 0.9283 - val_loss: 0.8952 - val_accuracy: 0.8100\n",
      "Epoch 9/9\n",
      "16/16 [==============================] - 0s 18ms/step - loss: 0.2825 - accuracy: 0.9366 - val_loss: 0.8944 - val_accuracy: 0.8160\n",
      "71/71 [==============================] - 0s 1ms/step - loss: 0.9795 - accuracy: 0.7836\n",
      "0.9366073608398438\n",
      "0.8159999847412109\n"
     ]
    }
   ],
   "source": [
    "#3.5.4\n",
    "from keras.datasets import reuters\n",
    "\n",
    "(train_data, train_labels), (test_data, test_labels) = reuters.load_data(num_words=10000)\n",
    "\n",
    "print(len(train_data))\n",
    "print(len(test_data))\n",
    "#print(train_data[10])\n",
    "\n",
    "word_index = reuters.get_word_index()\n",
    "#print(word_index)\n",
    "#{'mdbl': 10996, 'fawc': 16260,\n",
    "\n",
    "reverse_word_index = dict([(value, key) for (key, value) in word_index.items()])\n",
    "#print(reverse_word_index)\n",
    "#{10996: 'mdbl', 16260: 'fawc',\n",
    "\n",
    "decoded_newswire = ' '.join([reverse_word_index.get(i - 3, '?') for i in train_data[0]])\n",
    "#print(decoded_newswire)\n",
    "\n",
    "import numpy as np\n",
    "\n",
    "def vectorize_sequences(sequences, dimension=10000):\n",
    "    results = np.zeros((len(sequences), dimension))\n",
    "    for i, sequence in enumerate(sequences):\n",
    "        results[i, sequence] = 1.\n",
    "    return results\n",
    "\n",
    "x_train = vectorize_sequences(train_data)\n",
    "x_test = vectorize_sequences(test_data)\n",
    "\n",
    "def to_one_hot(labels, dimension=46):\n",
    "    results = np.zeros((len(labels), dimension))\n",
    "    for i, label in enumerate(labels):\n",
    "        results[i, label] = 1\n",
    "    return results\n",
    "\n",
    "one_hot_train_labels = to_one_hot(train_labels)\n",
    "one_hot_test_labels = to_one_hot(test_labels)\n",
    "\n",
    "from keras import models\n",
    "from keras import layers\n",
    "\n",
    "model = models.Sequential()\n",
    "model.add(layers.Dense(64, activation='relu', input_shape=(10000,)))\n",
    "model.add(layers.Dense(64, activation='relu'))\n",
    "model.add(layers.Dense(46, activation='softmax'))\n",
    "\n",
    "model.compile(optimizer='rmsprop',\n",
    "              loss='categorical_crossentropy',\n",
    "              metrics='accuracy')\n",
    "\n",
    "#3.5.4\n",
    "x_val = x_train[:1000]\n",
    "partial_x_train = x_train[1000:]\n",
    "\n",
    "y_val = one_hot_train_labels[:1000]\n",
    "partial_y_train = one_hot_train_labels[1000:]\n",
    "\n",
    "#3.18\n",
    "history = model.fit(partial_x_train,\n",
    "                    partial_y_train,\n",
    "                    epochs=9,\n",
    "                    batch_size=512,\n",
    "                    validation_data=(x_val, y_val))\n",
    "\n",
    "results = model.evaluate(x_test, one_hot_test_labels)\n",
    "\n",
    "print(history.history['accuracy'][-1])\n",
    "print(history.history['val_accuracy'][-1])"
   ]
  },
  {
   "cell_type": "code",
   "execution_count": 20,
   "id": "67dd9eb9",
   "metadata": {},
   "outputs": [
    {
     "name": "stdout",
     "output_type": "stream",
     "text": [
      "[1.58216369e-06 4.80193776e-05 2.20913462e-05 9.77575779e-01\n",
      " 1.42547330e-02 7.38028575e-06 9.11894458e-05 9.18558908e-06\n",
      " 1.51724636e-03 2.12718423e-05 2.20596394e-05 7.69213948e-04\n",
      " 5.11276245e-04 1.26504325e-04 7.61128740e-06 1.37697993e-04\n",
      " 2.40332403e-04 8.25177631e-06 1.57682691e-04 7.56046909e-04\n",
      " 1.59403018e-03 4.20701981e-04 1.43452853e-05 8.58466883e-05\n",
      " 2.25801414e-05 8.58194326e-05 1.31733805e-05 4.48612445e-05\n",
      " 3.91499088e-05 2.31767277e-04 5.75619561e-05 1.12866481e-04\n",
      " 8.28571683e-06 2.15232330e-06 1.42958132e-04 1.11284999e-05\n",
      " 5.00267488e-04 1.30526837e-06 5.89130332e-06 2.01877046e-04\n",
      " 1.60351901e-05 9.83267455e-06 4.19787341e-07 8.92949538e-05\n",
      " 1.17818524e-06 1.54215013e-06]\n",
      "1.0\n",
      "3\n"
     ]
    }
   ],
   "source": [
    "#3.5.5\n",
    "predictions = model.predict(x_test)\n",
    "print(predictions[0])\n",
    "print(np.sum(predictions[0]))\n",
    "print(np.argmax(predictions[0]))"
   ]
  },
  {
   "cell_type": "code",
   "execution_count": null,
   "id": "ac72a691",
   "metadata": {},
   "outputs": [],
   "source": []
  }
 ],
 "metadata": {
  "kernelspec": {
   "display_name": "Python 3 (ipykernel)",
   "language": "python",
   "name": "python3"
  },
  "language_info": {
   "codemirror_mode": {
    "name": "ipython",
    "version": 3
   },
   "file_extension": ".py",
   "mimetype": "text/x-python",
   "name": "python",
   "nbconvert_exporter": "python",
   "pygments_lexer": "ipython3",
   "version": "3.9.7"
  }
 },
 "nbformat": 4,
 "nbformat_minor": 5
}
