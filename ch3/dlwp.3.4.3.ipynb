{
 "cells": [
  {
   "cell_type": "code",
   "execution_count": 19,
   "id": "c6eb7ebc",
   "metadata": {},
   "outputs": [
    {
     "name": "stdout",
     "output_type": "stream",
     "text": [
      "(10000, 10000)\n",
      "(10000,)\n",
      "Epoch 1/10\n",
      "30/30 [==============================] - 1s 27ms/step - loss: 0.5174 - acc: 0.7897 - val_loss: 0.3934 - val_acc: 0.8694\n",
      "Epoch 2/10\n",
      "30/30 [==============================] - 0s 13ms/step - loss: 0.3123 - acc: 0.9022 - val_loss: 0.3088 - val_acc: 0.8875\n",
      "Epoch 3/10\n",
      "30/30 [==============================] - 0s 13ms/step - loss: 0.2304 - acc: 0.9269 - val_loss: 0.2914 - val_acc: 0.8837\n",
      "Epoch 4/10\n",
      "30/30 [==============================] - 0s 12ms/step - loss: 0.1832 - acc: 0.9411 - val_loss: 0.2793 - val_acc: 0.8855\n",
      "Epoch 5/10\n",
      "30/30 [==============================] - 0s 12ms/step - loss: 0.1466 - acc: 0.9547 - val_loss: 0.3174 - val_acc: 0.8746\n",
      "Epoch 6/10\n",
      "30/30 [==============================] - 0s 13ms/step - loss: 0.1237 - acc: 0.9633 - val_loss: 0.2872 - val_acc: 0.8867\n",
      "Epoch 7/10\n",
      "30/30 [==============================] - 0s 13ms/step - loss: 0.0998 - acc: 0.9717 - val_loss: 0.3035 - val_acc: 0.8846\n",
      "Epoch 8/10\n",
      "30/30 [==============================] - 0s 12ms/step - loss: 0.0845 - acc: 0.9759 - val_loss: 0.3255 - val_acc: 0.8796\n",
      "Epoch 9/10\n",
      "30/30 [==============================] - 0s 13ms/step - loss: 0.0702 - acc: 0.9811 - val_loss: 0.3423 - val_acc: 0.8805\n",
      "Epoch 10/10\n",
      "30/30 [==============================] - 0s 12ms/step - loss: 0.0562 - acc: 0.9861 - val_loss: 0.3627 - val_acc: 0.8783\n"
     ]
    }
   ],
   "source": [
    "#3.4.3\n",
    "#3.4.3\n",
    "from keras.datasets import imdb\n",
    "\n",
    "(train_data, train_labels), (test_data, test_labels) = imdb.load_data(num_words =10000)\n",
    "\n",
    "import numpy as np\n",
    "import random\n",
    "\n",
    "def vectorize_sequences(sequences, dimension=10000):\n",
    "    results = np.zeros((len(sequences), dimension))\n",
    "    for i, sequence in enumerate(sequences):\n",
    "        results[i, sequence] = 1.\n",
    "    return results\n",
    "\n",
    "x_train = vectorize_sequences(train_data)\n",
    "x_test = vectorize_sequences(test_data)\n",
    "\n",
    "y_train = np.asarray(train_labels).astype('float32')\n",
    "y_test = np.asarray(test_labels).astype('float32')\n",
    "\n",
    "x_val = x_train[:10000]\n",
    "partial_x_train = x_train[10000:]\n",
    "\n",
    "y_val = y_train[:10000]\n",
    "partial_y_train = y_train[10000:]\n",
    "\n",
    "from keras import models\n",
    "from keras import layers\n",
    "\n",
    "model = models.Sequential()\n",
    "model.add(layers.Dense(64, activation='tanh', input_shape=(10000,)))\n",
    "model.add(layers.Dense(64, activation='tanh'))\n",
    "#model.add(layers.Dense(16, activation='relu'))\n",
    "model.add(layers.Dense(1, activation='sigmoid'))\n",
    "\n",
    "model.compile(optimizer='rmsprop',\n",
    "             loss='binary_crossentropy',\n",
    "             metrics=['accuracy'])\n",
    "\n",
    "print(x_val.shape)\n",
    "print(y_val.shape)\n",
    "\n",
    "history = model.fit(partial_x_train,\n",
    "                    partial_y_train,\n",
    "                    epochs=4,\n",
    "                    batch_size=1024,\n",
    "                    validation_data=(x_val, y_val))\n",
    "\n",
    "results = model.evaluate(x_test, y_test)\n",
    "\n",
    "print(history.history.keys())\n"
   ]
  },
  {
   "cell_type": "code",
   "execution_count": 20,
   "id": "f55fdd4c",
   "metadata": {},
   "outputs": [
    {
     "data": {
      "image/png": "[encoded data removed]",
      "text/plain": [
       "<Figure size 432x288 with 1 Axes>"
      ]
     },
     "metadata": {
      "needs_background": "light"
     },
     "output_type": "display_data"
    }
   ],
   "source": [
    "#3.4.4\n",
    "import matplotlib.pyplot as plt\n",
    "\n",
    "history_dict = history.history\n",
    "loss_values = history_dict['loss']\n",
    "val_loss_values = history_dict['val_loss']\n",
    "acc_values = history_dict['acc']\n",
    "val_acc_values = history_dict['val_acc']\n",
    "\n",
    "epochs = range(1, len(history_dict['acc']) + 1)\n",
    "\n",
    "plt.plot(epochs, loss_values, 'bo', label='Training loss')\n",
    "plt.plot(epochs, val_loss_values, 'b', label='Validation loss')\n",
    "plt.plot(epochs, acc_values, 'ro', label='Training acc')\n",
    "plt.plot(epochs, val_acc_values, 'r', label='Validation acc')\n",
    "plt.title('Training and validation loss')\n",
    "plt.xlabel('Epochs')\n",
    "plt.ylabel('Loss')\n",
    "plt.legend()\n",
    "plt.show()"
   ]
  },
  {
   "cell_type": "code",
   "execution_count": null,
   "id": "aef4f2c0",
   "metadata": {},
   "outputs": [],
   "source": []
  }
 ],
 "metadata": {
  "kernelspec": {
   "display_name": "Python 3 (ipykernel)",
   "language": "python",
   "name": "python3"
  },
  "language_info": {
   "codemirror_mode": {
    "name": "ipython",
    "version": 3
   },
   "file_extension": ".py",
   "mimetype": "text/x-python",
   "name": "python",
   "nbconvert_exporter": "python",
   "pygments_lexer": "ipython3",
   "version": "3.9.7"
  }
 },
 "nbformat": 4,
 "nbformat_minor": 5
}
