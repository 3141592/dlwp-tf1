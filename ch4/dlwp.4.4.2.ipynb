{
 "cells": [
  {
   "cell_type": "code",
   "execution_count": 3,
   "id": "f6de5d53",
   "metadata": {},
   "outputs": [
    {
     "name": "stderr",
     "output_type": "stream",
     "text": [
      "2021-11-21 00:30:32.889578: I tensorflow/compiler/mlir/mlir_graph_optimization_pass.cc:185] None of the MLIR Optimization Passes are enabled (registered 2)\n"
     ]
    },
    {
     "name": "stdout",
     "output_type": "stream",
     "text": [
      "Epoch 1/20\n",
      "15/15 [==============================] - 2s 83ms/step - loss: 0.6245 - acc: 0.7222 - val_loss: 0.5042 - val_acc: 0.8407\n",
      "Epoch 2/20\n",
      "15/15 [==============================] - 0s 26ms/step - loss: 0.4380 - acc: 0.8836 - val_loss: 0.4165 - val_acc: 0.8769\n",
      "Epoch 3/20\n",
      "15/15 [==============================] - 0s 26ms/step - loss: 0.3598 - acc: 0.9061 - val_loss: 0.3838 - val_acc: 0.8734\n",
      "Epoch 4/20\n",
      "15/15 [==============================] - 0s 26ms/step - loss: 0.3046 - acc: 0.9271 - val_loss: 0.3738 - val_acc: 0.8710\n",
      "Epoch 5/20\n",
      "15/15 [==============================] - 0s 28ms/step - loss: 0.2845 - acc: 0.9283 - val_loss: 0.3525 - val_acc: 0.8848\n",
      "Epoch 6/20\n",
      "15/15 [==============================] - 0s 27ms/step - loss: 0.2529 - acc: 0.9423 - val_loss: 0.3369 - val_acc: 0.8890\n",
      "Epoch 7/20\n",
      "15/15 [==============================] - 0s 27ms/step - loss: 0.2428 - acc: 0.9436 - val_loss: 0.3479 - val_acc: 0.8850\n",
      "Epoch 8/20\n",
      "15/15 [==============================] - 0s 25ms/step - loss: 0.2306 - acc: 0.9469 - val_loss: 0.3474 - val_acc: 0.8849\n",
      "Epoch 9/20\n",
      "15/15 [==============================] - 0s 27ms/step - loss: 0.2229 - acc: 0.9488 - val_loss: 0.3562 - val_acc: 0.8799\n",
      "Epoch 10/20\n",
      "15/15 [==============================] - 0s 26ms/step - loss: 0.2023 - acc: 0.9610 - val_loss: 0.3400 - val_acc: 0.8851\n",
      "Epoch 11/20\n",
      "15/15 [==============================] - 0s 28ms/step - loss: 0.2111 - acc: 0.9511 - val_loss: 0.3439 - val_acc: 0.8840\n",
      "Epoch 12/20\n",
      "15/15 [==============================] - 0s 27ms/step - loss: 0.1987 - acc: 0.9583 - val_loss: 0.3493 - val_acc: 0.8811\n",
      "Epoch 13/20\n",
      "15/15 [==============================] - 0s 25ms/step - loss: 0.1889 - acc: 0.9652 - val_loss: 0.3570 - val_acc: 0.8845\n",
      "Epoch 14/20\n",
      "15/15 [==============================] - 0s 25ms/step - loss: 0.1943 - acc: 0.9600 - val_loss: 0.3567 - val_acc: 0.8822\n",
      "Epoch 15/20\n",
      "15/15 [==============================] - 0s 27ms/step - loss: 0.1751 - acc: 0.9701 - val_loss: 0.3854 - val_acc: 0.8721\n",
      "Epoch 16/20\n",
      "15/15 [==============================] - 0s 26ms/step - loss: 0.1782 - acc: 0.9673 - val_loss: 0.3870 - val_acc: 0.8780\n",
      "Epoch 17/20\n",
      "15/15 [==============================] - 0s 27ms/step - loss: 0.1805 - acc: 0.9657 - val_loss: 0.3684 - val_acc: 0.8826\n",
      "Epoch 18/20\n",
      "15/15 [==============================] - 0s 26ms/step - loss: 0.1769 - acc: 0.9671 - val_loss: 0.3711 - val_acc: 0.8809\n",
      "Epoch 19/20\n",
      "15/15 [==============================] - 0s 27ms/step - loss: 0.1739 - acc: 0.9680 - val_loss: 0.3820 - val_acc: 0.8805\n",
      "Epoch 20/20\n",
      "15/15 [==============================] - 0s 27ms/step - loss: 0.1629 - acc: 0.9742 - val_loss: 0.4021 - val_acc: 0.8779\n",
      "782/782 [==============================] - 1s 873us/step - loss: 0.4170 - acc: 0.8663\n",
      "Size:  25\n"
     ]
    }
   ],
   "source": [
    "#Listing 4.6\n",
    "from keras.datasets import imdb\n",
    "from keras import regularizers\n",
    "\n",
    "(train_data, train_labels), (test_data, test_labels) = imdb.load_data(num_words =10000)\n",
    "\n",
    "import numpy as np\n",
    "import random\n",
    "\n",
    "def vectorize_sequences(sequences, dimension=10000):\n",
    "    results = np.zeros((len(sequences), dimension))\n",
    "    for i, sequence in enumerate(sequences):\n",
    "        results[i, sequence] = 1.\n",
    "    return results\n",
    "\n",
    "x_train = vectorize_sequences(train_data)\n",
    "x_test = vectorize_sequences(test_data)\n",
    "\n",
    "y_train = np.asarray(train_labels).astype('float32')\n",
    "y_test = np.asarray(test_labels).astype('float32')\n",
    "\n",
    "x_val = x_train[:10000]\n",
    "partial_x_train = x_train[10000:]\n",
    "\n",
    "y_val = y_train[:10000]\n",
    "partial_y_train = y_train[10000:]\n",
    "\n",
    "from keras import models\n",
    "from keras import layers\n",
    "\n",
    "model = models.Sequential()\n",
    "model.add(layers.Dense(16, kernel_regularizer=regularizers.l2(0.001), activation='relu', input_shape=(10000,)))\n",
    "model.add(layers.Dense(16, kernel_regularizer=regularizers.l2(0.001), activation='relu'))\n",
    "model.add(layers.Dense(1, activation='sigmoid'))\n",
    "\n",
    "model.compile(optimizer='rmsprop',\n",
    "             loss='binary_crossentropy',\n",
    "             metrics=['acc'])\n",
    "\n",
    "history = model.fit(partial_x_train,\n",
    "                    partial_y_train,\n",
    "                    epochs=20,\n",
    "                    batch_size=1024,\n",
    "                    validation_data=(x_val, y_val))\n",
    "\n",
    "results = model.evaluate(x_test, y_test)\n",
    "\n",
    "#size = (input size * hidden layers + hidden layers * output size) + (hidden layers + output size)\n",
    "#size = (16 * 16 + 16 * 1) + (16 + 1)\n",
    "size = (4 * 4 + 4 * 1) + (4 + 1)\n",
    "print('Size: ', size)"
   ]
  },
  {
   "cell_type": "code",
   "execution_count": 4,
   "id": "57416f97",
   "metadata": {},
   "outputs": [
    {
     "data": {
      "image/png": "[encoded data removed]",
      "text/plain": [
       "<Figure size 432x288 with 1 Axes>"
      ]
     },
     "metadata": {
      "needs_background": "light"
     },
     "output_type": "display_data"
    }
   ],
   "source": [
    "#3.4.4\n",
    "import matplotlib.pyplot as plt\n",
    "\n",
    "history_dict = history.history\n",
    "loss_values = history_dict['loss']\n",
    "val_loss_values = history_dict['val_loss']\n",
    "acc_values = history_dict['acc']\n",
    "val_acc_values = history_dict['val_acc']\n",
    "\n",
    "epochs = range(1, len(history_dict['acc']) + 1)\n",
    "\n",
    "plt.plot(epochs, loss_values, 'bo', label='Training loss')\n",
    "plt.plot(epochs, val_loss_values, 'b', label='Validation loss')\n",
    "plt.plot(epochs, acc_values, 'ro', label='Training acc')\n",
    "plt.plot(epochs, val_acc_values, 'r', label='Validation acc')\n",
    "plt.title('Training and validation loss')\n",
    "plt.xlabel('Epochs')\n",
    "plt.ylabel('Loss')\n",
    "plt.legend()\n",
    "plt.show()"
   ]
  },
  {
   "cell_type": "code",
   "execution_count": 37,
   "id": "c5dad82c",
   "metadata": {},
   "outputs": [
    {
     "name": "stdout",
     "output_type": "stream",
     "text": [
      "782/782 [==============================] - 1s 935us/step - loss: 0.5687 - acc: 0.8582\n",
      "Size:  1089\n",
      "782/782 [==============================] - 1s 931us/step - loss: 0.5830 - acc: 0.8450\n",
      "Size:  289\n"
     ]
    }
   ],
   "source": [
    "#Listing 4.7\n",
    "from keras.datasets import imdb\n",
    "from keras import regularizers\n",
    "\n",
    "(train_data, train_labels), (test_data, test_labels) = imdb.load_data(num_words =10000)\n",
    "\n",
    "import numpy as np\n",
    "import random\n",
    "\n",
    "def vectorize_sequences(sequences, dimension=10000):\n",
    "    results = np.zeros((len(sequences), dimension))\n",
    "    for i, sequence in enumerate(sequences):\n",
    "        results[i, sequence] = 1.\n",
    "    return results\n",
    "\n",
    "x_train = vectorize_sequences(train_data)\n",
    "x_test = vectorize_sequences(test_data)\n",
    "\n",
    "y_train = np.asarray(train_labels).astype('float32')\n",
    "y_test = np.asarray(test_labels).astype('float32')\n",
    "\n",
    "x_val = x_train[:10000]\n",
    "partial_x_train = x_train[10000:]\n",
    "\n",
    "y_val = y_train[:10000]\n",
    "partial_y_train = y_train[10000:]\n",
    "\n",
    "from keras import models\n",
    "from keras import layers\n",
    "\n",
    "#Without regularizer\n",
    "model = models.Sequential()\n",
    "model.add(layers.Dense(32, activation='relu', input_shape=(10000,)))\n",
    "model.add(layers.Dense(32, activation='relu'))\n",
    "model.add(layers.Dense(1, activation='sigmoid'))\n",
    "\n",
    "model.compile(optimizer='rmsprop',\n",
    "             loss='binary_crossentropy',\n",
    "             metrics=['acc'])\n",
    "\n",
    "history = model.fit(partial_x_train,\n",
    "                    partial_y_train,\n",
    "                    epochs=20,\n",
    "                    batch_size=1024,\n",
    "                    validation_data=(x_val, y_val),\n",
    "                    verbose=0)\n",
    "\n",
    "results = model.evaluate(x_test, y_test)\n",
    "\n",
    "#size = (input size * hidden layers + hidden layers * output size) + (hidden layers + output size)\n",
    "size = (32 * 32 + 32 * 1) + (32 + 1)\n",
    "#size = (16 * 16 + 16 * 1) + (16 + 1)\n",
    "#size = (4 * 4 + 4 * 1) + (4 + 1)\n",
    "print('Size: ', size)\n",
    "\n",
    "#With regularizer\n",
    "model2 = models.Sequential()\n",
    "model2.add(layers.Dense(16, kernel_regularizer=regularizers.l1_l2(l1=0.001,l2=0.001), activation='relu', input_shape=(10000,)))\n",
    "model2.add(layers.Dense(16, kernel_regularizer=regularizers.l1_l2(l1=0.001,l2=0.001), activation='relu'))\n",
    "model2.add(layers.Dense(1, activation='sigmoid'))\n",
    "\n",
    "model2.compile(optimizer='rmsprop',\n",
    "             loss='binary_crossentropy',\n",
    "             metrics=['acc'])\n",
    "\n",
    "history2 = model2.fit(partial_x_train,\n",
    "                    partial_y_train,\n",
    "                    epochs=20,\n",
    "                    batch_size=1024,\n",
    "                    validation_data=(x_val, y_val),\n",
    "                    verbose=0)\n",
    "\n",
    "results = model2.evaluate(x_test, y_test)\n",
    "\n",
    "#size = (input size * hidden layers + hidden layers * output size) + (hidden layers + output size)\n",
    "size = (16 * 16 + 16 * 1) + (16 + 1)\n",
    "#size = (4 * 4 + 4 * 1) + (4 + 1)\n",
    "print('Size: ', size)"
   ]
  },
  {
   "cell_type": "code",
   "execution_count": 40,
   "id": "856c2a38",
   "metadata": {},
   "outputs": [
    {
     "name": "stderr",
     "output_type": "stream",
     "text": [
      "No handles with labels found to put in legend.\n"
     ]
    },
    {
     "data": {
      "image/png": "[encoded data removed]",
      "text/plain": [
       "<Figure size 432x288 with 1 Axes>"
      ]
     },
     "metadata": {
      "needs_background": "light"
     },
     "output_type": "display_data"
    }
   ],
   "source": [
    "#3.4.4\n",
    "import matplotlib.pyplot as plt\n",
    "\n",
    "history_dict = history.history\n",
    "loss_values = history_dict['loss']\n",
    "val_loss_values = history_dict['val_loss']\n",
    "acc_values = history_dict['acc']\n",
    "val_acc_values = history_dict['val_acc']\n",
    "\n",
    "epochs1 = range(1, len(history_dict['acc']) + 1)\n",
    "\n",
    "history_dict2 = history2.history\n",
    "loss_values2 = history_dict2['loss']\n",
    "val_loss_values2 = history_dict2['val_loss']\n",
    "acc_values2 = history_dict2['acc']\n",
    "val_acc_values2 = history_dict2['val_acc']\n",
    "\n",
    "epochs2 = range(1, len(history_dict2['acc']) + 1)\n",
    "\n",
    "#model1\n",
    "plt.plot(epochs1, loss_values, 'bo')#, label='TL')\n",
    "plt.plot(epochs1, val_loss_values, 'b')#, label='VL')\n",
    "#plt.plot(epochs1, acc_values, 'ro')#, label='TA')\n",
    "#plt.plot(epochs1, val_acc_values, 'r')#, label='VA')\n",
    "\n",
    "#model2\n",
    "plt.plot(epochs2, loss_values2, 'go')#, label='TL')\n",
    "plt.plot(epochs2, val_loss_values2, 'g')#, label='VL')\n",
    "#plt.plot(epochs2, acc_values2, 'yo')#, label='TA')\n",
    "#plt.plot(epochs2, val_acc_values2, 'y')#, label='VA')\n",
    "\n",
    "plt.title('Training and validation loss')\n",
    "plt.xlabel('Epochs')\n",
    "plt.ylabel('Loss')\n",
    "plt.legend()\n",
    "plt.show()"
   ]
  },
  {
   "cell_type": "code",
   "execution_count": null,
   "id": "c12e419c",
   "metadata": {},
   "outputs": [],
   "source": []
  },
  {
   "cell_type": "code",
   "execution_count": null,
   "id": "286dc463",
   "metadata": {},
   "outputs": [],
   "source": []
  }
 ],
 "metadata": {
  "kernelspec": {
   "display_name": "Python 3 (ipykernel)",
   "language": "python",
   "name": "python3"
  },
  "language_info": {
   "codemirror_mode": {
    "name": "ipython",
    "version": 3
   },
   "file_extension": ".py",
   "mimetype": "text/x-python",
   "name": "python",
   "nbconvert_exporter": "python",
   "pygments_lexer": "ipython3",
   "version": "3.9.7"
  }
 },
 "nbformat": 4,
 "nbformat_minor": 5
}
