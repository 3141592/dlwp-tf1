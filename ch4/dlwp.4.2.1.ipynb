{
 "cells": [
  {
   "cell_type": "code",
   "execution_count": 10,
   "id": "bb363048",
   "metadata": {},
   "outputs": [
    {
     "name": "stdout",
     "output_type": "stream",
     "text": [
      "[1, 16, 30, 23, 3, 24, 26, 30, 26, 23]\n",
      "[23, 26, 24, 26, 16, 30, 23, 1, 3, 30]\n",
      "[23, 26, 24]\n",
      "[26, 16, 30, 23, 1, 3, 30]\n",
      "[26, 16, 30, 23, 1, 3, 30]\n"
     ]
    }
   ],
   "source": [
    "# Simple Hold-out Validation\n",
    "#Listing 4.1\n",
    "import random\n",
    "import numpy as np\n",
    "\n",
    "randomlist = []\n",
    "for i in range(0,10):\n",
    "    n = random.randint(1,30)\n",
    "    randomlist.append(n)\n",
    "\n",
    "print(randomlist)\n",
    "data = randomlist\n",
    "\n",
    "#Shuffling the data is usually appropriate\n",
    "np.random.shuffle(data)\n",
    "print(data)\n",
    "\n",
    "num_val_samples = 3\n",
    "\n",
    "#Defines the validation set\n",
    "val_data = data[:num_val_samples]\n",
    "print(val_data)\n",
    "\n",
    "data = data[num_val_samples:]\n",
    "print(data)\n",
    "\n",
    "#Defines the training set\n",
    "training_data = data[:]\n",
    "print(training_data)"
   ]
  },
  {
   "cell_type": "code",
   "execution_count": 41,
   "id": "fc7d3e38",
   "metadata": {},
   "outputs": [
    {
     "name": "stdout",
     "output_type": "stream",
     "text": [
      "Processing fold # 0\n",
      "validation data\n",
      "[1, 2, 3, 4, 5, 6, 7, 8, 9, 10, 11, 12]\n",
      "training_data\n",
      "[13, 14, 15, 16, 17, 18, 19, 20, 21, 22, 23, 24, 25, 26, 27, 28, 29, 30, 31, 32, 33, 34, 35, 36, 37, 38, 39, 40, 41, 42, 43, 44, 45, 46, 47, 48, 49, 50]\n",
      "Processing fold # 1\n",
      "validation data\n",
      "[13, 14, 15, 16, 17, 18, 19, 20, 21, 22, 23, 24]\n",
      "training_data\n",
      "[1, 2, 3, 4, 5, 6, 7, 8, 9, 10, 11, 12, 25, 26, 27, 28, 29, 30, 31, 32, 33, 34, 35, 36, 37, 38, 39, 40, 41, 42, 43, 44, 45, 46, 47, 48, 49, 50]\n",
      "Processing fold # 2\n",
      "validation data\n",
      "[25, 26, 27, 28, 29, 30, 31, 32, 33, 34, 35, 36]\n",
      "training_data\n",
      "[1, 2, 3, 4, 5, 6, 7, 8, 9, 10, 11, 12, 13, 14, 15, 16, 17, 18, 19, 20, 21, 22, 23, 24, 37, 38, 39, 40, 41, 42, 43, 44, 45, 46, 47, 48, 49, 50]\n",
      "Processing fold # 3\n",
      "validation data\n",
      "[37, 38, 39, 40, 41, 42, 43, 44, 45, 46, 47, 48]\n",
      "training_data\n",
      "[1, 2, 3, 4, 5, 6, 7, 8, 9, 10, 11, 12, 13, 14, 15, 16, 17, 18, 19, 20, 21, 22, 23, 24, 25, 26, 27, 28, 29, 30, 31, 32, 33, 34, 35, 36, 49, 50]\n"
     ]
    }
   ],
   "source": [
    "# K-fold Validation\n",
    "#Listing 4.2\n",
    "import random\n",
    "import numpy as np\n",
    "\n",
    "randomlist = []\n",
    "for i in range(0,50):\n",
    "    n = random.randint(1,30)\n",
    "    randomlist.append(n)\n",
    "\n",
    "#print(randomlist)\n",
    "data = list(range(1, 50 + 1))\n",
    "\n",
    "#Shuffling the data is usually appropriate\n",
    "#np.random.shuffle(data)\n",
    "#print(data)\n",
    "\n",
    "k = 4\n",
    "num_val_samples = len(data)//4\n",
    "\n",
    "validation_scores = []\n",
    "for fold in range(k):\n",
    "    print(\"Processing fold #\", fold)\n",
    "    validation_data = data[num_val_samples * fold:num_val_samples * (fold + 1)]\n",
    "    training_data = data[:num_val_samples * fold] + data[num_val_samples * (fold + 1):]\n",
    "        \n",
    "    print('validation data')\n",
    "    print(validation_data)\n",
    "    #print(len(validation_data),validation_data[0],validation_data[-1])\n",
    "    print('training_data')\n",
    "    print(training_data)\n",
    "    #print(len(training_data),training_data[0],training_data[-1])"
   ]
  },
  {
   "cell_type": "code",
   "execution_count": null,
   "id": "3f0ace85",
   "metadata": {},
   "outputs": [],
   "source": []
  },
  {
   "cell_type": "code",
   "execution_count": null,
   "id": "f775748f",
   "metadata": {},
   "outputs": [],
   "source": []
  }
 ],
 "metadata": {
  "kernelspec": {
   "display_name": "Python 3 (ipykernel)",
   "language": "python",
   "name": "python3"
  },
  "language_info": {
   "codemirror_mode": {
    "name": "ipython",
    "version": 3
   },
   "file_extension": ".py",
   "mimetype": "text/x-python",
   "name": "python",
   "nbconvert_exporter": "python",
   "pygments_lexer": "ipython3",
   "version": "3.9.7"
  }
 },
 "nbformat": 4,
 "nbformat_minor": 5
}
