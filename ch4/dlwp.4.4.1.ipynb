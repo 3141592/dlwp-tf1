{
 "cells": [
  {
   "cell_type": "code",
   "execution_count": 3,
   "id": "f6de5d53",
   "metadata": {},
   "outputs": [
    {
     "name": "stdout",
     "output_type": "stream",
     "text": [
      "Epoch 1/20\n",
      "15/15 [==============================] - 1s 52ms/step - loss: 0.5653 - acc: 0.7369 - val_loss: 0.4544 - val_acc: 0.8390\n",
      "Epoch 2/20\n",
      "15/15 [==============================] - 0s 23ms/step - loss: 0.3801 - acc: 0.8823 - val_loss: 0.3795 - val_acc: 0.8579\n",
      "Epoch 3/20\n",
      "15/15 [==============================] - 0s 23ms/step - loss: 0.2882 - acc: 0.9158 - val_loss: 0.3160 - val_acc: 0.8861\n",
      "Epoch 4/20\n",
      "15/15 [==============================] - 0s 23ms/step - loss: 0.2400 - acc: 0.9269 - val_loss: 0.2919 - val_acc: 0.8898\n",
      "Epoch 5/20\n",
      "15/15 [==============================] - 0s 23ms/step - loss: 0.2017 - acc: 0.9383 - val_loss: 0.2863 - val_acc: 0.8883\n",
      "Epoch 6/20\n",
      "15/15 [==============================] - 0s 23ms/step - loss: 0.1659 - acc: 0.9520 - val_loss: 0.2910 - val_acc: 0.8831\n",
      "Epoch 7/20\n",
      "15/15 [==============================] - 0s 23ms/step - loss: 0.1522 - acc: 0.9533 - val_loss: 0.2830 - val_acc: 0.8865\n",
      "Epoch 8/20\n",
      "15/15 [==============================] - 0s 22ms/step - loss: 0.1305 - acc: 0.9624 - val_loss: 0.2817 - val_acc: 0.8878\n",
      "Epoch 9/20\n",
      "15/15 [==============================] - 0s 23ms/step - loss: 0.1134 - acc: 0.9709 - val_loss: 0.2911 - val_acc: 0.8860\n",
      "Epoch 10/20\n",
      "15/15 [==============================] - 0s 22ms/step - loss: 0.1049 - acc: 0.9700 - val_loss: 0.2959 - val_acc: 0.8864\n",
      "Epoch 11/20\n",
      "15/15 [==============================] - 0s 23ms/step - loss: 0.0821 - acc: 0.9811 - val_loss: 0.3182 - val_acc: 0.8802\n",
      "Epoch 12/20\n",
      "15/15 [==============================] - 0s 23ms/step - loss: 0.0832 - acc: 0.9774 - val_loss: 0.3198 - val_acc: 0.8823\n",
      "Epoch 13/20\n",
      "15/15 [==============================] - 0s 22ms/step - loss: 0.0617 - acc: 0.9876 - val_loss: 0.3299 - val_acc: 0.8810\n",
      "Epoch 14/20\n",
      "15/15 [==============================] - 0s 23ms/step - loss: 0.0659 - acc: 0.9834 - val_loss: 0.3438 - val_acc: 0.8809\n",
      "Epoch 15/20\n",
      "15/15 [==============================] - 0s 23ms/step - loss: 0.0474 - acc: 0.9924 - val_loss: 0.3652 - val_acc: 0.8770\n",
      "Epoch 16/20\n",
      "15/15 [==============================] - 0s 23ms/step - loss: 0.0488 - acc: 0.9907 - val_loss: 0.3814 - val_acc: 0.8771\n",
      "Epoch 17/20\n",
      "15/15 [==============================] - 0s 23ms/step - loss: 0.0394 - acc: 0.9939 - val_loss: 0.4335 - val_acc: 0.8686\n",
      "Epoch 18/20\n",
      "15/15 [==============================] - 0s 22ms/step - loss: 0.0326 - acc: 0.9954 - val_loss: 0.4396 - val_acc: 0.8675\n",
      "Epoch 19/20\n",
      "15/15 [==============================] - 0s 23ms/step - loss: 0.0335 - acc: 0.9939 - val_loss: 0.4745 - val_acc: 0.8659\n",
      "Epoch 20/20\n",
      "15/15 [==============================] - 0s 22ms/step - loss: 0.0234 - acc: 0.9975 - val_loss: 0.4475 - val_acc: 0.8715\n",
      "782/782 [==============================] - 1s 790us/step - loss: 0.4928 - acc: 0.8587\n",
      "Size:  25\n"
     ]
    }
   ],
   "source": [
    "#Listing 4.3\n",
    "from keras.datasets import imdb\n",
    "\n",
    "(train_data, train_labels), (test_data, test_labels) = imdb.load_data(num_words =10000)\n",
    "\n",
    "import numpy as np\n",
    "import random\n",
    "\n",
    "def vectorize_sequences(sequences, dimension=10000):\n",
    "    results = np.zeros((len(sequences), dimension))\n",
    "    for i, sequence in enumerate(sequences):\n",
    "        results[i, sequence] = 1.\n",
    "    return results\n",
    "\n",
    "x_train = vectorize_sequences(train_data)\n",
    "x_test = vectorize_sequences(test_data)\n",
    "\n",
    "y_train = np.asarray(train_labels).astype('float32')\n",
    "y_test = np.asarray(test_labels).astype('float32')\n",
    "\n",
    "x_val = x_train[:10000]\n",
    "partial_x_train = x_train[10000:]\n",
    "\n",
    "y_val = y_train[:10000]\n",
    "partial_y_train = y_train[10000:]\n",
    "\n",
    "from keras import models\n",
    "from keras import layers\n",
    "\n",
    "model = models.Sequential()\n",
    "model.add(layers.Dense(16, activation='relu', input_shape=(10000,)))\n",
    "model.add(layers.Dense(16, activation='relu'))\n",
    "model.add(layers.Dense(1, activation='sigmoid'))\n",
    "\n",
    "model.compile(optimizer='rmsprop',\n",
    "             loss='binary_crossentropy',\n",
    "             metrics=['acc'])\n",
    "\n",
    "history = model.fit(partial_x_train,\n",
    "                    partial_y_train,\n",
    "                    epochs=20,\n",
    "                    batch_size=1024,\n",
    "                    validation_data=(x_val, y_val))\n",
    "\n",
    "results = model.evaluate(x_test, y_test)\n",
    "\n",
    "#size = (input size * hidden layers + hidden layers * output size) + (hidden layers + output size)\n",
    "#size = (16 * 16 + 16 * 1) + (16 + 1)\n",
    "size = (4 * 4 + 4 * 1) + (4 + 1)\n",
    "print('Size: ', size)"
   ]
  },
  {
   "cell_type": "code",
   "execution_count": 4,
   "id": "57416f97",
   "metadata": {},
   "outputs": [
    {
     "data": {
      "image/png": "[encoded data removed]",
      "text/plain": [
       "<Figure size 432x288 with 1 Axes>"
      ]
     },
     "metadata": {
      "needs_background": "light"
     },
     "output_type": "display_data"
    }
   ],
   "source": [
    "#3.4.4\n",
    "import matplotlib.pyplot as plt\n",
    "\n",
    "history_dict = history.history\n",
    "loss_values = history_dict['loss']\n",
    "val_loss_values = history_dict['val_loss']\n",
    "acc_values = history_dict['acc']\n",
    "val_acc_values = history_dict['val_acc']\n",
    "\n",
    "epochs = range(1, len(history_dict['acc']) + 1)\n",
    "\n",
    "plt.plot(epochs, loss_values, 'bo', label='Training loss')\n",
    "plt.plot(epochs, val_loss_values, 'b', label='Validation loss')\n",
    "plt.plot(epochs, acc_values, 'ro', label='Training acc')\n",
    "plt.plot(epochs, val_acc_values, 'r', label='Validation acc')\n",
    "plt.title('Training and validation loss')\n",
    "plt.xlabel('Epochs')\n",
    "plt.ylabel('Loss')\n",
    "plt.legend()\n",
    "plt.show()"
   ]
  },
  {
   "cell_type": "code",
   "execution_count": null,
   "id": "c5dad82c",
   "metadata": {},
   "outputs": [],
   "source": []
  },
  {
   "cell_type": "code",
   "execution_count": null,
   "id": "856c2a38",
   "metadata": {},
   "outputs": [],
   "source": []
  }
 ],
 "metadata": {
  "kernelspec": {
   "display_name": "Python 3 (ipykernel)",
   "language": "python",
   "name": "python3"
  },
  "language_info": {
   "codemirror_mode": {
    "name": "ipython",
    "version": 3
   },
   "file_extension": ".py",
   "mimetype": "text/x-python",
   "name": "python",
   "nbconvert_exporter": "python",
   "pygments_lexer": "ipython3",
   "version": "3.9.7"
  }
 },
 "nbformat": 4,
 "nbformat_minor": 5
}
